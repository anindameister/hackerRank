{
  "nbformat": 4,
  "nbformat_minor": 0,
  "metadata": {
    "colab": {
      "name": "listComprehensions(Functions)lambda(Map)Listfunction.ipynb",
      "provenance": []
    },
    "kernelspec": {
      "name": "python3",
      "display_name": "Python 3"
    }
  },
  "cells": [
    {
      "cell_type": "code",
      "metadata": {
        "id": "bSjnUY35Tpyk",
        "colab_type": "code",
        "colab": {
          "base_uri": "https://localhost:8080/",
          "height": 35
        },
        "outputId": "04564e39-759e-4099-dea8-e16abc91ff72"
      },
      "source": [
        "# Example 1: Iterating through a string Using for Loop\n",
        "h_letters = []\n",
        "\n",
        "for letter in 'human':\n",
        "    h_letters.append(letter)\n",
        "\n",
        "print(h_letters)"
      ],
      "execution_count": 1,
      "outputs": [
        {
          "output_type": "stream",
          "text": [
            "['h', 'u', 'm', 'a', 'n']\n"
          ],
          "name": "stdout"
        }
      ]
    },
    {
      "cell_type": "code",
      "metadata": {
        "id": "jlo-zcvcT1vq",
        "colab_type": "code",
        "colab": {
          "base_uri": "https://localhost:8080/",
          "height": 35
        },
        "outputId": "c2b09156-8346-4840-a88a-6b3dc89f59f0"
      },
      "source": [
        "# Example 2: Iterating through a string Using List Comprehension\n",
        "h_letters = [ letter for letter in 'human' ]\n",
        "print( h_letters)"
      ],
      "execution_count": 2,
      "outputs": [
        {
          "output_type": "stream",
          "text": [
            "['h', 'u', 'm', 'a', 'n']\n"
          ],
          "name": "stdout"
        }
      ]
    },
    {
      "cell_type": "code",
      "metadata": {
        "id": "pQd-p97WT_yY",
        "colab_type": "code",
        "colab": {}
      },
      "source": [
        "# Syntax of List Comprehension\n",
        "# [expression for item in list]\n",
        "# If you noticed, human is a string, not a list. This is the power of list comprehension. \n",
        "# It can identify when it receives a string or a tuple and work on it like a list."
      ],
      "execution_count": 0,
      "outputs": []
    },
    {
      "cell_type": "code",
      "metadata": {
        "id": "jljL2w17U-aO",
        "colab_type": "code",
        "colab": {
          "base_uri": "https://localhost:8080/",
          "height": 35
        },
        "outputId": "578c4518-c93f-46f2-f6e1-ff105d730d30"
      },
      "source": [
        "h_letters = []\n",
        "thistuple = (\"apple\", \"banana\", \"cherry\")\n",
        "for letter in thistuple:\n",
        "    h_letters.append(letter)\n",
        "\n",
        "print(h_letters)"
      ],
      "execution_count": 4,
      "outputs": [
        {
          "output_type": "stream",
          "text": [
            "['apple', 'banana', 'cherry']\n"
          ],
          "name": "stdout"
        }
      ]
    },
    {
      "cell_type": "code",
      "metadata": {
        "id": "3vp6IA99VRj0",
        "colab_type": "code",
        "colab": {
          "base_uri": "https://localhost:8080/",
          "height": 35
        },
        "outputId": "bf55dc13-911c-4d5a-b472-7e9a5e1126d8"
      },
      "source": [
        "thistuple = (\"apple\", \"banana\", \"cherry\")\n",
        "h_letters = [ letter for letter in thistuple ]\n",
        "print( h_letters)"
      ],
      "execution_count": 5,
      "outputs": [
        {
          "output_type": "stream",
          "text": [
            "['apple', 'banana', 'cherry']\n"
          ],
          "name": "stdout"
        }
      ]
    },
    {
      "cell_type": "code",
      "metadata": {
        "id": "ynAf-SKJVirl",
        "colab_type": "code",
        "colab": {
          "base_uri": "https://localhost:8080/",
          "height": 35
        },
        "outputId": "0242b07d-1d1a-4ebb-d4c2-4a89762ae63a"
      },
      "source": [
        "# lambda function\n",
        "# A lambda function is a small anonymous function.\n",
        "\n",
        "# A lambda function can take any number of arguments, but can only have one expression.\n",
        "# lambda arguments : expression\n",
        "\n",
        "# An argument is simply a value provided to a function when you call it: x = foo( 3 ) # 3 is the argument for foo \n",
        "# y = bar( 4, \"str\" ) # 4 and \"str\" are the two arguments for bar.\n",
        "# A lambda function that adds 10 to the number passed in as an argument, and print the result:\n",
        "x = lambda a : a + 10\n",
        "print(x(5))\n"
      ],
      "execution_count": 6,
      "outputs": [
        {
          "output_type": "stream",
          "text": [
            "15\n"
          ],
          "name": "stdout"
        }
      ]
    },
    {
      "cell_type": "code",
      "metadata": {
        "id": "RKRykWUUWKfL",
        "colab_type": "code",
        "colab": {
          "base_uri": "https://localhost:8080/",
          "height": 53
        },
        "outputId": "b9a45840-aecf-4a1d-d756-03e48418cfe3"
      },
      "source": [
        "a=int(input())\n",
        "b=a+10\n",
        "print(b)"
      ],
      "execution_count": 8,
      "outputs": [
        {
          "output_type": "stream",
          "text": [
            "5\n",
            "15\n"
          ],
          "name": "stdout"
        }
      ]
    },
    {
      "cell_type": "code",
      "metadata": {
        "id": "VIMPXQHaWSvE",
        "colab_type": "code",
        "colab": {}
      },
      "source": [
        "def checkingAbove(num):\n",
        "  \n",
        "  num1=num+10\n",
        "  return num1"
      ],
      "execution_count": 0,
      "outputs": []
    },
    {
      "cell_type": "code",
      "metadata": {
        "id": "yeOA3sQQW5Fm",
        "colab_type": "code",
        "colab": {
          "base_uri": "https://localhost:8080/",
          "height": 35
        },
        "outputId": "0b27beb8-00f1-4eb3-8490-33c15b38b37f"
      },
      "source": [
        "checkingAbove(5)"
      ],
      "execution_count": 14,
      "outputs": [
        {
          "output_type": "execute_result",
          "data": {
            "text/plain": [
              "15"
            ]
          },
          "metadata": {
            "tags": []
          },
          "execution_count": 14
        }
      ]
    },
    {
      "cell_type": "code",
      "metadata": {
        "id": "7Cw8Y53lW7Nx",
        "colab_type": "code",
        "colab": {
          "base_uri": "https://localhost:8080/",
          "height": 35
        },
        "outputId": "e3c509b1-1587-4368-81dd-9954092fa00f"
      },
      "source": [
        "# lambda, any number of argument check\n",
        "x = lambda a,b : a + b+10\n",
        "print(x(5,0))"
      ],
      "execution_count": 15,
      "outputs": [
        {
          "output_type": "stream",
          "text": [
            "15\n"
          ],
          "name": "stdout"
        }
      ]
    },
    {
      "cell_type": "code",
      "metadata": {
        "id": "iXL8Cr7bYLBS",
        "colab_type": "code",
        "colab": {}
      },
      "source": [
        "def argumentNo2LambdaCheck(a,b):\n",
        "  c=a+b+10\n",
        "  return c"
      ],
      "execution_count": 0,
      "outputs": []
    },
    {
      "cell_type": "code",
      "metadata": {
        "id": "eY093Qj1YeQ-",
        "colab_type": "code",
        "colab": {
          "base_uri": "https://localhost:8080/",
          "height": 35
        },
        "outputId": "0f79e9e0-cc40-40c8-ca93-86be38d04070"
      },
      "source": [
        "argumentNo2LambdaCheck(5,0)"
      ],
      "execution_count": 19,
      "outputs": [
        {
          "output_type": "execute_result",
          "data": {
            "text/plain": [
              "15"
            ]
          },
          "metadata": {
            "tags": []
          },
          "execution_count": 19
        }
      ]
    },
    {
      "cell_type": "code",
      "metadata": {
        "id": "x778GleYYimt",
        "colab_type": "code",
        "colab": {}
      },
      "source": [
        "# Why Use Lambda Functions?\n",
        "# The power of lambda is better shown when you use them as an anonymous function inside another function.\n",
        "\n",
        "# Say you have a function definition that takes one argument, and that argument will be multiplied with an unknown number:\n",
        "\n",
        "def myfunc(n):\n",
        "  return lambda a : a * n\n",
        "\n",
        "# Use that function definition to make a function that always doubles the number you send in:"
      ],
      "execution_count": 0,
      "outputs": []
    },
    {
      "cell_type": "code",
      "metadata": {
        "id": "fEl5esGeY4qn",
        "colab_type": "code",
        "colab": {
          "base_uri": "https://localhost:8080/",
          "height": 35
        },
        "outputId": "0ae7bbe0-3a88-435c-9245-a4510742e456"
      },
      "source": [
        "myfunc(2)"
      ],
      "execution_count": 21,
      "outputs": [
        {
          "output_type": "execute_result",
          "data": {
            "text/plain": [
              "<function __main__.myfunc.<locals>.<lambda>>"
            ]
          },
          "metadata": {
            "tags": []
          },
          "execution_count": 21
        }
      ]
    },
    {
      "cell_type": "code",
      "metadata": {
        "id": "lsWy0eupY7Rc",
        "colab_type": "code",
        "colab": {
          "base_uri": "https://localhost:8080/",
          "height": 35
        },
        "outputId": "047f4ce6-60e4-45f0-eff4-8e678ee9dcaa"
      },
      "source": [
        "def myfunc(n):\n",
        "  return lambda a : a * n\n",
        "\n",
        "mydoubler = myfunc(2)\n",
        "\n",
        "print(mydoubler(11))"
      ],
      "execution_count": 23,
      "outputs": [
        {
          "output_type": "stream",
          "text": [
            "22\n"
          ],
          "name": "stdout"
        }
      ]
    },
    {
      "cell_type": "code",
      "metadata": {
        "id": "Ip15jJGbZP-L",
        "colab_type": "code",
        "colab": {}
      },
      "source": [
        "def doublerTriplerETC(num1,num2):\n",
        "  num3=num1*num2\n",
        "  return num3"
      ],
      "execution_count": 0,
      "outputs": []
    },
    {
      "cell_type": "code",
      "metadata": {
        "id": "D50N7r40ZfSx",
        "colab_type": "code",
        "colab": {
          "base_uri": "https://localhost:8080/",
          "height": 35
        },
        "outputId": "1ecccc63-df77-4f44-e551-fc1de8a19743"
      },
      "source": [
        "doublerTriplerETC(11,2)\n",
        "doublerTriplerETC(11,3)"
      ],
      "execution_count": 29,
      "outputs": [
        {
          "output_type": "execute_result",
          "data": {
            "text/plain": [
              "33"
            ]
          },
          "metadata": {
            "tags": []
          },
          "execution_count": 29
        }
      ]
    },
    {
      "cell_type": "code",
      "metadata": {
        "id": "_lvQ1re9aGzB",
        "colab_type": "code",
        "colab": {
          "base_uri": "https://localhost:8080/",
          "height": 53
        },
        "outputId": "fbd88580-3e3e-4588-8e4a-d4191506aaea"
      },
      "source": [
        "print(doublerTriplerETC(11,2))\n",
        "print(doublerTriplerETC(11,3))"
      ],
      "execution_count": 30,
      "outputs": [
        {
          "output_type": "stream",
          "text": [
            "22\n",
            "33\n"
          ],
          "name": "stdout"
        }
      ]
    },
    {
      "cell_type": "code",
      "metadata": {
        "id": "6Bh8sQPFZj_D",
        "colab_type": "code",
        "colab": {
          "base_uri": "https://localhost:8080/",
          "height": 53
        },
        "outputId": "6d26fafe-e504-40fa-f0fe-d6f08fa49c1f"
      },
      "source": [
        "# Or, use the same function definition to make both functions, in the same program:\n",
        "def myfunc(n):\n",
        "  return lambda a : a * n\n",
        "\n",
        "mydoubler = myfunc(2)\n",
        "mytripler = myfunc(3)\n",
        "\n",
        "print(mydoubler(11))\n",
        "print(mytripler(11))"
      ],
      "execution_count": 27,
      "outputs": [
        {
          "output_type": "stream",
          "text": [
            "22\n",
            "33\n"
          ],
          "name": "stdout"
        }
      ]
    },
    {
      "cell_type": "code",
      "metadata": {
        "id": "l_3pa1EbZ59o",
        "colab_type": "code",
        "colab": {
          "base_uri": "https://localhost:8080/",
          "height": 35
        },
        "outputId": "46bec2f5-3ea1-4fad-fb39-3977483be4d2"
      },
      "source": [
        "# List comprehensions aren’t the only way to work on lists. \n",
        "# Various built-in functions and lambda functions can create and modify lists in less lines of code.\n",
        "\n",
        "# Example 3: Using Lambda functions inside List\n",
        "letters = list(map(lambda x: x, 'human'))\n",
        "print(letters)"
      ],
      "execution_count": 1,
      "outputs": [
        {
          "output_type": "stream",
          "text": [
            "['h', 'u', 'm', 'a', 'n']\n"
          ],
          "name": "stdout"
        }
      ]
    },
    {
      "cell_type": "code",
      "metadata": {
        "id": "4PXoIpVE7YM5",
        "colab_type": "code",
        "colab": {
          "base_uri": "https://localhost:8080/",
          "height": 35
        },
        "outputId": "2caccfb2-a5d2-4322-8c65-07db1ccc1a2e"
      },
      "source": [
        "# map function\n",
        "def addition(n): \n",
        "    return n + n \n",
        "  \n",
        "# We double all numbers using map() \n",
        "numbers = (1, 2, 3, 4) \n",
        "result = map(addition, numbers) \n",
        "print(list(result)) "
      ],
      "execution_count": 2,
      "outputs": [
        {
          "output_type": "stream",
          "text": [
            "[2, 4, 6, 8]\n"
          ],
          "name": "stdout"
        }
      ]
    },
    {
      "cell_type": "code",
      "metadata": {
        "id": "LXm_zcmJ7-lT",
        "colab_type": "code",
        "colab": {
          "base_uri": "https://localhost:8080/",
          "height": 35
        },
        "outputId": "05a5b35c-17cd-4d4c-aad9-a8b8a3c1da81"
      },
      "source": [
        "def multiplication(n): \n",
        "    return n * n \n",
        "  \n",
        "# We double all numbers using map() \n",
        "numbers = (1, 2, 3, 4) \n",
        "result = map(multiplication, numbers) \n",
        "print(list(result)) "
      ],
      "execution_count": 4,
      "outputs": [
        {
          "output_type": "stream",
          "text": [
            "[1, 4, 9, 16]\n"
          ],
          "name": "stdout"
        }
      ]
    },
    {
      "cell_type": "code",
      "metadata": {
        "id": "TDQiRKVB8LT3",
        "colab_type": "code",
        "colab": {
          "base_uri": "https://localhost:8080/",
          "height": 35
        },
        "outputId": "447adaba-fbb8-4f9f-c212-916e19d062c6"
      },
      "source": [
        "# Double all numbers using map and lambda \n",
        "  \n",
        "numbers = (1, 2, 3, 4) \n",
        "result = map(lambda x: x + x, numbers) \n",
        "print(list(result)) "
      ],
      "execution_count": 5,
      "outputs": [
        {
          "output_type": "stream",
          "text": [
            "[2, 4, 6, 8]\n"
          ],
          "name": "stdout"
        }
      ]
    },
    {
      "cell_type": "code",
      "metadata": {
        "id": "_lO1hIVn8icR",
        "colab_type": "code",
        "colab": {
          "base_uri": "https://localhost:8080/",
          "height": 35
        },
        "outputId": "c59841cd-bb79-4479-dea3-47f75e5cb4a5"
      },
      "source": [
        "  \n",
        "numbers = (1, 2, 3, 4) \n",
        "result = map(lambda x: x * x, numbers) \n",
        "print(list(result)) "
      ],
      "execution_count": 6,
      "outputs": [
        {
          "output_type": "stream",
          "text": [
            "[1, 4, 9, 16]\n"
          ],
          "name": "stdout"
        }
      ]
    },
    {
      "cell_type": "code",
      "metadata": {
        "id": "8NyiTMoF8mvX",
        "colab_type": "code",
        "colab": {
          "base_uri": "https://localhost:8080/",
          "height": 35
        },
        "outputId": "86318833-4055-42fd-e538-f452e5fc464f"
      },
      "source": [
        "# Add two lists using map and lambda \n",
        "  \n",
        "numbers1 = [1, 2, 3] \n",
        "numbers2 = [4, 5, 6] \n",
        "  \n",
        "result = map(lambda x, y: x + y, numbers1, numbers2) \n",
        "print(list(result)) "
      ],
      "execution_count": 7,
      "outputs": [
        {
          "output_type": "stream",
          "text": [
            "[5, 7, 9]\n"
          ],
          "name": "stdout"
        }
      ]
    },
    {
      "cell_type": "code",
      "metadata": {
        "id": "uFsEJnb68tgm",
        "colab_type": "code",
        "colab": {
          "base_uri": "https://localhost:8080/",
          "height": 71
        },
        "outputId": "1df04f0f-8427-4f99-f1e9-2ce75b5072e6"
      },
      "source": [
        "# Add two lists using map and lambda \n",
        "  \n",
        "numbers1 = [1, 2, 3] \n",
        "numbers2 = [4, 5, 6] \n",
        "num1=(7,8,9)\n",
        "num2=(10,11,12)\n",
        "  \n",
        "result = map(lambda x, y: x + y, numbers1, numbers2) \n",
        "resultAnother=map(lambda x, y: x + y, num1, num2) \n",
        "print(list(result)) \n",
        "# print(list(resultAnother))\n",
        "print(set(resultAnother))\n",
        "# print(list(resultAnother)) :resultAnother used before and couldn't reuse\n",
        "\n",
        "# Python map() function\n",
        "# map() function returns a map object(which is an iterator) of the results \n",
        "# after applying the given function to each item of a given iterable (list, tuple etc.)\n",
        "# map(fun, iter)\n",
        "# fun : It is a function to which map passes each element of given iterable.\n",
        "# iter : It is a iterable which is to be mapped.\n",
        "\n",
        "# NOTE : You can pass one or more iterable to the map() function.\n",
        "# Returns a list of the results after applying the given function  \n",
        "# to each item of a given iterable (list, tuple etc.) \n",
        "\n",
        "# NOTE : The returned value from map() (map object) then can be passed to functions like list() (to create a list), \n",
        "# set() (to create a set) ."
      ],
      "execution_count": 14,
      "outputs": [
        {
          "output_type": "stream",
          "text": [
            "[5, 7, 9]\n",
            "{17, 19, 21}\n",
            "[]\n"
          ],
          "name": "stdout"
        }
      ]
    },
    {
      "cell_type": "code",
      "metadata": {
        "id": "L73gN3qk9GGd",
        "colab_type": "code",
        "colab": {
          "base_uri": "https://localhost:8080/",
          "height": 179
        },
        "outputId": "07e63767-7bf0-47f2-dabe-d0c92f9ced2f"
      },
      "source": [
        "numbers1 = [1, 2, 3] \n",
        "numbers2 = [4, 5, 6] \n",
        "for i in numbers1:\n",
        "  for j in numbers2:\n",
        "    print(i+j)"
      ],
      "execution_count": 15,
      "outputs": [
        {
          "output_type": "stream",
          "text": [
            "5\n",
            "6\n",
            "7\n",
            "6\n",
            "7\n",
            "8\n",
            "7\n",
            "8\n",
            "9\n"
          ],
          "name": "stdout"
        }
      ]
    },
    {
      "cell_type": "code",
      "metadata": {
        "id": "Z7_uAyn6_fyU",
        "colab_type": "code",
        "colab": {
          "base_uri": "https://localhost:8080/",
          "height": 53
        },
        "outputId": "925d8f7e-e4ee-4aa3-e166-d2085012a172"
      },
      "source": [
        "numbers1 = [1, 2, 3] \n",
        "numbers2 = [4, 5, 6] \n",
        "result = lambda x, y: x + y, numbers1, numbers2\n",
        "print(result)\n",
        "\n",
        "resultUsingMap=map(lambda x, y: x + y, numbers1, numbers2)\n",
        "print(list(resultUsingMap)) "
      ],
      "execution_count": 27,
      "outputs": [
        {
          "output_type": "stream",
          "text": [
            "(<function <lambda> at 0x7f9f3fdf4598>, [1, 2, 3], [4, 5, 6])\n",
            "[5, 7, 9]\n"
          ],
          "name": "stdout"
        }
      ]
    },
    {
      "cell_type": "code",
      "metadata": {
        "id": "11mU0YyL_2GE",
        "colab_type": "code",
        "colab": {
          "base_uri": "https://localhost:8080/",
          "height": 35
        },
        "outputId": "19f615a1-2fdc-4f82-a2ef-55b054606b7e"
      },
      "source": [
        "def additionList(a,b):\n",
        "  c=a+b\n",
        "  return c\n",
        "\n",
        "numbers1 = [1, 2, 3] \n",
        "numbers2 = [4, 5, 6] \n",
        "additionList(numbers1,numbers2)"
      ],
      "execution_count": 21,
      "outputs": [
        {
          "output_type": "execute_result",
          "data": {
            "text/plain": [
              "[1, 2, 3, 4, 5, 6]"
            ]
          },
          "metadata": {
            "tags": []
          },
          "execution_count": 21
        }
      ]
    },
    {
      "cell_type": "code",
      "metadata": {
        "id": "_WHbtX4yApqh",
        "colab_type": "code",
        "colab": {
          "base_uri": "https://localhost:8080/",
          "height": 53
        },
        "outputId": "f289f5fb-0982-4ccc-9b79-629df32a7482"
      },
      "source": [
        "numbers1 = [1, 2, 3] \n",
        "numbers2 = [4, 5] \n",
        "result = lambda x, y: x + y, numbers1, numbers2\n",
        "print(result)\n",
        "resultUsingMap=map(lambda x, y: x + y, numbers1, numbers2)\n",
        "print(list(resultUsingMap)) "
      ],
      "execution_count": 29,
      "outputs": [
        {
          "output_type": "stream",
          "text": [
            "(<function <lambda> at 0x7f9f3fdf4510>, [1, 2, 3], [4, 5])\n",
            "[5, 7]\n"
          ],
          "name": "stdout"
        }
      ]
    },
    {
      "cell_type": "code",
      "metadata": {
        "id": "rTW-BadtBxPZ",
        "colab_type": "code",
        "colab": {
          "base_uri": "https://localhost:8080/",
          "height": 35
        },
        "outputId": "2e09daf6-6647-4f4b-94f0-5b55c04b17fd"
      },
      "source": [
        "def additionList(a,b):\n",
        "  c=a+b\n",
        "  return c\n",
        "\n",
        "numbers1 = [1, 2, 3] \n",
        "numbers2 = [4, 5] \n",
        "additionList(numbers1,numbers2)"
      ],
      "execution_count": 30,
      "outputs": [
        {
          "output_type": "execute_result",
          "data": {
            "text/plain": [
              "[1, 2, 3, 4, 5]"
            ]
          },
          "metadata": {
            "tags": []
          },
          "execution_count": 30
        }
      ]
    },
    {
      "cell_type": "code",
      "metadata": {
        "id": "vzW_cshwB4sr",
        "colab_type": "code",
        "colab": {
          "base_uri": "https://localhost:8080/",
          "height": 35
        },
        "outputId": "23efcd37-ebfe-4ec0-c97d-180dcd7e6e5d"
      },
      "source": [
        "# List of strings \n",
        "l = ['sat', 'bat', 'cat', 'mat'] \n",
        "  \n",
        "# map() can listify the list of strings individually \n",
        "test = list(map(list, l)) \n",
        "print(test) "
      ],
      "execution_count": 31,
      "outputs": [
        {
          "output_type": "stream",
          "text": [
            "[['s', 'a', 't'], ['b', 'a', 't'], ['c', 'a', 't'], ['m', 'a', 't']]\n"
          ],
          "name": "stdout"
        }
      ]
    },
    {
      "cell_type": "code",
      "metadata": {
        "id": "NTdWW29VCF-x",
        "colab_type": "code",
        "colab": {
          "base_uri": "https://localhost:8080/",
          "height": 89
        },
        "outputId": "7d5985ab-cc4c-4e8c-cefb-11091f1fad60"
      },
      "source": [
        "l = ['sat', 'bat', 'cat', 'mat'] \n",
        "for i in l:\n",
        "  print(i)"
      ],
      "execution_count": 32,
      "outputs": [
        {
          "output_type": "stream",
          "text": [
            "sat\n",
            "bat\n",
            "cat\n",
            "mat\n"
          ],
          "name": "stdout"
        }
      ]
    },
    {
      "cell_type": "code",
      "metadata": {
        "id": "DgcNG9UKC3O1",
        "colab_type": "code",
        "colab": {
          "base_uri": "https://localhost:8080/",
          "height": 35
        },
        "outputId": "0861d240-1fb8-454f-d39e-739aa635773a"
      },
      "source": [
        "l = ['sat', 'bat', 'cat', 'mat'] \n",
        "list(l)\n",
        "# map(list(l)) : map() must have at least two arguments.\n",
        "list(map(list, l))"
      ],
      "execution_count": 39,
      "outputs": [
        {
          "output_type": "execute_result",
          "data": {
            "text/plain": [
              "[['s', 'a', 't'], ['b', 'a', 't'], ['c', 'a', 't'], ['m', 'a', 't']]"
            ]
          },
          "metadata": {
            "tags": []
          },
          "execution_count": 39
        }
      ]
    },
    {
      "cell_type": "code",
      "metadata": {
        "id": "4mD_71ucCM1Q",
        "colab_type": "code",
        "colab": {}
      },
      "source": [
        "# Python list()\n",
        "# The list() constructor returns a list in Python.\n",
        "# The syntax of list() is:\n",
        "\n",
        "# list([iterable])"
      ],
      "execution_count": 0,
      "outputs": []
    },
    {
      "cell_type": "code",
      "metadata": {
        "id": "Mf7PdKyvCtVP",
        "colab_type": "code",
        "colab": {
          "base_uri": "https://localhost:8080/",
          "height": 89
        },
        "outputId": "830deabe-46dd-43be-c523-7b3980f5085d"
      },
      "source": [
        "# empty list\n",
        "print(list())\n",
        "\n",
        "# vowel string\n",
        "vowel_string = 'aeiou'\n",
        "print(list(vowel_string))\n",
        "\n",
        "# vowel tuple\n",
        "vowel_tuple = ('a', 'e', 'i', 'o', 'u')\n",
        "print(list(vowel_tuple))\n",
        "\n",
        "# vowel list\n",
        "vowel_list = ['a', 'e', 'i', 'o', 'u']\n",
        "print(list(vowel_list))"
      ],
      "execution_count": 33,
      "outputs": [
        {
          "output_type": "stream",
          "text": [
            "[]\n",
            "['a', 'e', 'i', 'o', 'u']\n",
            "['a', 'e', 'i', 'o', 'u']\n",
            "['a', 'e', 'i', 'o', 'u']\n"
          ],
          "name": "stdout"
        }
      ]
    },
    {
      "cell_type": "code",
      "metadata": {
        "id": "29EXS0n2CuCQ",
        "colab_type": "code",
        "colab": {
          "base_uri": "https://localhost:8080/",
          "height": 53
        },
        "outputId": "0bb2c4c1-18a6-4fe8-d6d3-a4e3bb72d4c4"
      },
      "source": [
        "# vowel set\n",
        "vowel_set = {'a', 'e', 'i', 'o', 'u'}\n",
        "print(list(vowel_set))\n",
        "\n",
        "# vowel dictionary\n",
        "vowel_dictionary = {'a': 1, 'e': 2, 'i': 3, 'o':4, 'u':5}\n",
        "print(list(vowel_dictionary))"
      ],
      "execution_count": 34,
      "outputs": [
        {
          "output_type": "stream",
          "text": [
            "['a', 'i', 'o', 'u', 'e']\n",
            "['a', 'e', 'i', 'o', 'u']\n"
          ],
          "name": "stdout"
        }
      ]
    },
    {
      "cell_type": "code",
      "metadata": {
        "id": "whzOKCuNCyha",
        "colab_type": "code",
        "colab": {
          "base_uri": "https://localhost:8080/",
          "height": 35
        },
        "outputId": "e4c9e269-d8e0-4745-ed2a-37b5fb3c2e97"
      },
      "source": [
        "# Example 3: Create a list from an iterator object\n",
        "# objects of this class are iterators\n",
        "class PowTwo:\n",
        "    def __init__(self, max):\n",
        "        self.max = max\n",
        "    \n",
        "    def __iter__(self):\n",
        "        self.num = 0\n",
        "        return self\n",
        "        \n",
        "    def __next__(self):\n",
        "        if(self.num >= self.max):\n",
        "            raise StopIteration\n",
        "        result = 2 ** self.num\n",
        "        self.num += 1\n",
        "        return result\n",
        "\n",
        "pow_two = PowTwo(5)\n",
        "pow_two_iter = iter(pow_two)\n",
        "\n",
        "print(list(pow_two_iter))"
      ],
      "execution_count": 40,
      "outputs": [
        {
          "output_type": "stream",
          "text": [
            "[1, 2, 4, 8, 16]\n"
          ],
          "name": "stdout"
        }
      ]
    },
    {
      "cell_type": "code",
      "metadata": {
        "id": "lccXnQc1DaFP",
        "colab_type": "code",
        "colab": {
          "base_uri": "https://localhost:8080/",
          "height": 35
        },
        "outputId": "7df70f21-66dc-456f-8118-d37fe3cfa33e"
      },
      "source": [
        "# Conditionals in List Comprehension\n",
        "# List comprehensions can utilize conditional statement to modify existing list (or other tuples). \n",
        "# We will create list that uses mathematical operators, integers, and range().\n",
        "\n",
        "# Example 4: Using if with List Comprehension\n",
        "number_list = [ x for x in range(20) if x % 2 == 0]\n",
        "print(number_list)"
      ],
      "execution_count": 41,
      "outputs": [
        {
          "output_type": "stream",
          "text": [
            "[0, 2, 4, 6, 8, 10, 12, 14, 16, 18]\n"
          ],
          "name": "stdout"
        }
      ]
    },
    {
      "cell_type": "code",
      "metadata": {
        "id": "qhBfxph3DtLI",
        "colab_type": "code",
        "colab": {
          "base_uri": "https://localhost:8080/",
          "height": 35
        },
        "outputId": "d32117d8-0eb4-464d-99e2-7ca1c4226351"
      },
      "source": [
        "number_list = [ x for x in range(20) if x % 2 != 0]\n",
        "print(number_list)"
      ],
      "execution_count": 42,
      "outputs": [
        {
          "output_type": "stream",
          "text": [
            "[1, 3, 5, 7, 9, 11, 13, 15, 17, 19]\n"
          ],
          "name": "stdout"
        }
      ]
    },
    {
      "cell_type": "code",
      "metadata": {
        "id": "dgPlcC42EHV-",
        "colab_type": "code",
        "colab": {
          "base_uri": "https://localhost:8080/",
          "height": 35
        },
        "outputId": "f5c69442-38b4-4a0f-83a7-75b181c13091"
      },
      "source": [
        "number_list = [ x for x in range(6,20) if x % 2 != 0]\n",
        "print(number_list)"
      ],
      "execution_count": 43,
      "outputs": [
        {
          "output_type": "stream",
          "text": [
            "[7, 9, 11, 13, 15, 17, 19]\n"
          ],
          "name": "stdout"
        }
      ]
    },
    {
      "cell_type": "code",
      "metadata": {
        "id": "X7e2zbu2ENAe",
        "colab_type": "code",
        "colab": {
          "base_uri": "https://localhost:8080/",
          "height": 107
        },
        "outputId": "09d062ac-3a70-40bd-cc46-8dd18b603461"
      },
      "source": [
        "for i in range(5):\n",
        "  print(i)"
      ],
      "execution_count": 44,
      "outputs": [
        {
          "output_type": "stream",
          "text": [
            "0\n",
            "1\n",
            "2\n",
            "3\n",
            "4\n"
          ],
          "name": "stdout"
        }
      ]
    },
    {
      "cell_type": "code",
      "metadata": {
        "id": "tg666EKHEQ7m",
        "colab_type": "code",
        "colab": {
          "base_uri": "https://localhost:8080/",
          "height": 35
        },
        "outputId": "29faf4a1-dfea-4ae0-d9f5-c53596b233de"
      },
      "source": [
        "# Example 5: Nested IF with List Comprehension\n",
        "num_list = [y for y in range(100) if y % 2 == 0 if y % 5 == 0]\n",
        "print(num_list)"
      ],
      "execution_count": 45,
      "outputs": [
        {
          "output_type": "stream",
          "text": [
            "[0, 10, 20, 30, 40, 50, 60, 70, 80, 90]\n"
          ],
          "name": "stdout"
        }
      ]
    },
    {
      "cell_type": "code",
      "metadata": {
        "id": "_UG3cFbOEd_V",
        "colab_type": "code",
        "colab": {
          "base_uri": "https://localhost:8080/",
          "height": 35
        },
        "outputId": "d4a50a94-cfe3-46f7-b506-0e437d571212"
      },
      "source": [
        "obj = [\"Even\" if i%2==0 else \"Odd\" for i in range(10)]\n",
        "print(obj)"
      ],
      "execution_count": 46,
      "outputs": [
        {
          "output_type": "stream",
          "text": [
            "['Even', 'Odd', 'Even', 'Odd', 'Even', 'Odd', 'Even', 'Odd', 'Even', 'Odd']\n"
          ],
          "name": "stdout"
        }
      ]
    },
    {
      "cell_type": "code",
      "metadata": {
        "id": "fs6uCYT6EjLt",
        "colab_type": "code",
        "colab": {
          "base_uri": "https://localhost:8080/",
          "height": 197
        },
        "outputId": "e22fc0ea-758e-4311-e86c-f0aa341a0f42"
      },
      "source": [
        "for i in range(10):\n",
        "  if i%2==0:\n",
        "    print('Even')\n",
        "  else:\n",
        "    print(\"Odd\")\n",
        "\n",
        "# BUT how am I gonna pick it up in a list, that's why list comprehensions"
      ],
      "execution_count": 47,
      "outputs": [
        {
          "output_type": "stream",
          "text": [
            "Even\n",
            "Odd\n",
            "Even\n",
            "Odd\n",
            "Even\n",
            "Odd\n",
            "Even\n",
            "Odd\n",
            "Even\n",
            "Odd\n"
          ],
          "name": "stdout"
        }
      ]
    },
    {
      "cell_type": "code",
      "metadata": {
        "id": "2SIDHGpAEy4N",
        "colab_type": "code",
        "colab": {
          "base_uri": "https://localhost:8080/",
          "height": 53
        },
        "outputId": "0ecb4cad-8fea-473f-9c5e-23ac10c987ad"
      },
      "source": [
        "# Example 7: Transpose of Matrix using Nested Loops\n",
        "transposed = []\n",
        "matrix = [[1, 2, 3, 4], [4, 5, 6, 8]]\n",
        "\n",
        "for i in range(len(matrix[0])):\n",
        "    transposed_row = []\n",
        "\n",
        "    for row in matrix:\n",
        "        transposed_row.append(row[i])\n",
        "    transposed.append(transposed_row)\n",
        "\n",
        "print(transposed)\n",
        "\n",
        "# Example 8: Transpose of a Matrix using List Comprehension\n",
        "matrix = [[1, 2], [3,4], [5,6], [7,8]]\n",
        "transpose = [[row[i] for row in matrix] for i in range(2)]\n",
        "print (transpose)"
      ],
      "execution_count": 49,
      "outputs": [
        {
          "output_type": "stream",
          "text": [
            "[[1, 4], [2, 5], [3, 6], [4, 8]]\n",
            "[[1, 3, 5, 7], [2, 4, 6, 8]]\n"
          ],
          "name": "stdout"
        }
      ]
    },
    {
      "cell_type": "code",
      "metadata": {
        "id": "W_8181OfGWC7",
        "colab_type": "code",
        "colab": {}
      },
      "source": [
        "# Key Points to Remember\n",
        "# List comprehension is an elegant way to define and create lists based on existing lists.\n",
        "# List comprehension is generally more compact and faster than normal functions and loops for creating list.\n",
        "# However, we should avoid writing very long list comprehensions in one line to ensure that code is user-friendly.\n",
        "# Remember, every list comprehension can be rewritten in for loop, but every for loop can’t be rewritten in the form of list comprehension."
      ],
      "execution_count": 0,
      "outputs": []
    }
  ]
}