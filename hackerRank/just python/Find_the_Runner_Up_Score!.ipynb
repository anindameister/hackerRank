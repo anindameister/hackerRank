{
  "nbformat": 4,
  "nbformat_minor": 0,
  "metadata": {
    "colab": {
      "name": "Find the Runner-Up Score!.ipynb",
      "provenance": [],
      "collapsed_sections": []
    },
    "kernelspec": {
      "name": "python3",
      "display_name": "Python 3"
    }
  },
  "cells": [
    {
      "cell_type": "code",
      "metadata": {
        "id": "nGsjGUoT4eaP",
        "colab_type": "code",
        "colab": {
          "base_uri": "https://localhost:8080/",
          "height": 280
        },
        "outputId": "50a4be6f-a95b-4d9c-ee71-4bda0650a085"
      },
      "source": [
        "lst = [] \n",
        "  \n",
        "# number of elemetns as input \n",
        "n = int(input()) \n",
        "  \n",
        "# iterating till the range \n",
        "for i in range(0, n): \n",
        "    ele = int(input()) \n",
        "  \n",
        "    lst.append(ele) # adding the element \n",
        "      \n",
        "lst.sort(reverse = True) \n",
        "print(lst[1])"
      ],
      "execution_count": 4,
      "outputs": [
        {
          "output_type": "stream",
          "text": [
            "5\n",
            "2 3 6 6 5\n"
          ],
          "name": "stdout"
        },
        {
          "output_type": "error",
          "ename": "ValueError",
          "evalue": "ignored",
          "traceback": [
            "\u001b[0;31m---------------------------------------------------------------------------\u001b[0m",
            "\u001b[0;31mValueError\u001b[0m                                Traceback (most recent call last)",
            "\u001b[0;32m<ipython-input-4-47d172f366bf>\u001b[0m in \u001b[0;36m<module>\u001b[0;34m()\u001b[0m\n\u001b[1;32m      6\u001b[0m \u001b[0;31m# iterating till the range\u001b[0m\u001b[0;34m\u001b[0m\u001b[0;34m\u001b[0m\u001b[0;34m\u001b[0m\u001b[0m\n\u001b[1;32m      7\u001b[0m \u001b[0;32mfor\u001b[0m \u001b[0mi\u001b[0m \u001b[0;32min\u001b[0m \u001b[0mrange\u001b[0m\u001b[0;34m(\u001b[0m\u001b[0;36m0\u001b[0m\u001b[0;34m,\u001b[0m \u001b[0mn\u001b[0m\u001b[0;34m)\u001b[0m\u001b[0;34m:\u001b[0m\u001b[0;34m\u001b[0m\u001b[0;34m\u001b[0m\u001b[0m\n\u001b[0;32m----> 8\u001b[0;31m     \u001b[0mele\u001b[0m \u001b[0;34m=\u001b[0m \u001b[0mint\u001b[0m\u001b[0;34m(\u001b[0m\u001b[0minput\u001b[0m\u001b[0;34m(\u001b[0m\u001b[0;34m)\u001b[0m\u001b[0;34m)\u001b[0m\u001b[0;34m\u001b[0m\u001b[0;34m\u001b[0m\u001b[0m\n\u001b[0m\u001b[1;32m      9\u001b[0m \u001b[0;34m\u001b[0m\u001b[0m\n\u001b[1;32m     10\u001b[0m     \u001b[0mlst\u001b[0m\u001b[0;34m.\u001b[0m\u001b[0mappend\u001b[0m\u001b[0;34m(\u001b[0m\u001b[0mele\u001b[0m\u001b[0;34m)\u001b[0m \u001b[0;31m# adding the element\u001b[0m\u001b[0;34m\u001b[0m\u001b[0;34m\u001b[0m\u001b[0m\n",
            "\u001b[0;31mValueError\u001b[0m: invalid literal for int() with base 10: '2 3 6 6 5'"
          ]
        }
      ]
    },
    {
      "cell_type": "code",
      "metadata": {
        "id": "1HD5zir04wMG",
        "colab_type": "code",
        "colab": {
          "base_uri": "https://localhost:8080/",
          "height": 71
        },
        "outputId": "9ef64465-ff6a-4e42-88de-38d527c11534"
      },
      "source": [
        "n = int(input())\n",
        "\n",
        "arr = map(int, input().split())\n",
        "arr=list(arr)\n",
        "arr.sort(reverse = True) \n",
        "if arr[0]==arr[1]:\n",
        "  print(arr[2])\n",
        "elif arr[0]!=arr[1]:\n",
        "  print(arr[1])\n",
        "\n"
      ],
      "execution_count": 15,
      "outputs": [
        {
          "output_type": "stream",
          "text": [
            "5\n",
            "2 3 6 6 5\n",
            "5\n"
          ],
          "name": "stdout"
        }
      ]
    },
    {
      "cell_type": "code",
      "metadata": {
        "id": "aYTaPXbf-CmO",
        "colab_type": "code",
        "colab": {
          "base_uri": "https://localhost:8080/",
          "height": 71
        },
        "outputId": "2b64532c-1ad8-49fa-d3d9-c4106a408eea"
      },
      "source": [
        "n = int(input())\n",
        "\n",
        "nums = map(int, input().split())\t\n",
        "print (sorted(list(set(nums)))[-2])"
      ],
      "execution_count": 18,
      "outputs": [
        {
          "output_type": "stream",
          "text": [
            "5\n",
            "2 3 6 6 5\n",
            "5\n"
          ],
          "name": "stdout"
        }
      ]
    },
    {
      "cell_type": "code",
      "metadata": {
        "id": "r5ZNXtp_DCIO",
        "colab_type": "code",
        "colab": {
          "base_uri": "https://localhost:8080/",
          "height": 71
        },
        "outputId": "29e6e2e4-1049-4402-9068-56457a71552e"
      },
      "source": [
        "n = int(input())\n",
        "\n",
        "nums = map(int, input().split())\t\n",
        "nums=set(nums)\n",
        "nums=list(nums)\n",
        "nums.sort(reverse = True) \n",
        "print(nums[1])"
      ],
      "execution_count": 32,
      "outputs": [
        {
          "output_type": "stream",
          "text": [
            "5\n",
            "2 3 6 6 5\n",
            "5\n"
          ],
          "name": "stdout"
        }
      ]
    },
    {
      "cell_type": "code",
      "metadata": {
        "id": "tkrospg--cPO",
        "colab_type": "code",
        "colab": {
          "base_uri": "https://localhost:8080/",
          "height": 71
        },
        "outputId": "6d525b3d-8d53-4c57-d6ea-4ce306140865"
      },
      "source": [
        "n = int(input())\n",
        "\n",
        "nums = map(int, input().split())\n",
        "# def listOperation(nums):\n",
        "#   numList=list(nums)\n",
        "#   numList.sort()\n",
        "#   return numList\n",
        "def setOperation(nums):\n",
        "  numSet=set(nums)\n",
        "  return numSet\n",
        "\n",
        "# print(listOperation(nums))\n",
        "print(setOperation(nums))\n",
        "\n"
      ],
      "execution_count": 31,
      "outputs": [
        {
          "output_type": "stream",
          "text": [
            "5\n",
            "2 3 6 6 5\n",
            "{2, 3, 5, 6}\n"
          ],
          "name": "stdout"
        }
      ]
    },
    {
      "cell_type": "code",
      "metadata": {
        "id": "IixEAmXC4yHm",
        "colab_type": "code",
        "colab": {
          "base_uri": "https://localhost:8080/",
          "height": 143
        },
        "outputId": "ee761d69-04de-42a0-8506-649fdf39f6b1"
      },
      "source": [
        "\n",
        "# creating an empty list \n",
        "lst = [] \n",
        "  \n",
        "# number of elemetns as input \n",
        "n = int(input(\"Enter number of elements : \")) \n",
        "  \n",
        "# iterating till the range \n",
        "for i in range(0, n): \n",
        "    ele = int(input()) \n",
        "  \n",
        "    lst.append(ele) # adding the element \n",
        "      \n",
        "lst.sort(reverse = True) \n",
        "print(lst[1])"
      ],
      "execution_count": 3,
      "outputs": [
        {
          "output_type": "stream",
          "text": [
            "Enter number of elements : 5\n",
            "1\n",
            "2\n",
            "3\n",
            "4\n",
            "5\n",
            "4\n"
          ],
          "name": "stdout"
        }
      ]
    }
  ]
}